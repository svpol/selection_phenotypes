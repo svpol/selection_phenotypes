{
 "cells": [
  {
   "cell_type": "code",
   "execution_count": 2,
   "id": "73767f64",
   "metadata": {},
   "outputs": [],
   "source": [
    "import pandas as pd\n",
    "import urllib\n",
    "import sqlalchemy as sa\n",
    "from datetime import datetime\n",
    "import numpy as np"
   ]
  },
  {
   "cell_type": "markdown",
   "id": "56770780",
   "metadata": {},
   "source": [
    "# 1. Multiparity, lambing ease, mikiness phenotypes: general infromation"
   ]
  },
  {
   "cell_type": "markdown",
   "id": "47591a6a",
   "metadata": {},
   "source": [
    "There are three ovine selection models which we are currently intereseted in: \n",
    "\n",
    "1. Multiparity. The things to be assessed per lambing: total number of lambs born, the number of lambs born alive, the number of male lambs.\n",
    "2. Lambing ease, in points: 1 - easy lambing, 2 - complicated lambing.\n",
    "3. Milkiness: weight of all lambs born in one lambing at the age of breaking in to milk minus weight of ones at the moment of birth.\n",
    "\n",
    "To start calculation of these selection models we need both genotype and phenotype data. This page provides a way to obtain phenotypes only.\n",
    "\n",
    "Phenotypic data is taken from out SQL DB."
   ]
  },
  {
   "cell_type": "markdown",
   "id": "05deadfd",
   "metadata": {},
   "source": [
    "# 2. Connection to the DataBase, SQL queries and the result dataframe"
   ]
  },
  {
   "cell_type": "code",
   "execution_count": 3,
   "id": "eefa3ffc",
   "metadata": {},
   "outputs": [],
   "source": [
    "params = urllib.parse.quote_plus( \n",
    "    'Driver={ODBC Driver 17 for SQL Server};' \n",
    "    'Server=bestserver;' \n",
    "    'Database=ovine;' \n",
    "    'UID=MyUID;' \n",
    "    'PWD=123;')"
   ]
  },
  {
   "cell_type": "code",
   "execution_count": null,
   "id": "cd228b3b",
   "metadata": {},
   "outputs": [],
   "source": [
    "engine = sa.create_engine(f\"mssql+pyodbc:///?odbc_connect={params}\")"
   ]
  },
  {
   "cell_type": "markdown",
   "id": "7a720297",
   "metadata": {},
   "source": [
    "The lambing data is taken with the SQL query below:"
   ]
  },
  {
   "cell_type": "code",
   "execution_count": null,
   "id": "f1b58c65",
   "metadata": {},
   "outputs": [],
   "source": [
    "lambs = \"\"\"SELECT c.animal_no, a.birth_date, p.probe_code, a.breed as mother_breed, c.ease, c.farm_code, c.operation_date, YEAR(c.operation_date) AS lambing_year, \n",
    "    CASE \n",
    "        WHEN MONTH(c.operation_date) BETWEEN 3 AND 5 THEN 'SPRING'\n",
    "        WHEN MONTH(c.operation_date) BETWEEN 6 AND 8 THEN 'SUMMER'\n",
    "        WHEN MONTH(c.operation_date) BETWEEN 9 AND 11 THEN 'FALL'\n",
    "        WHEN MONTH(c.operation_date) IN(1,2,12) THEN 'WINTER'\n",
    "    END lambing_season,\n",
    "    c.breed as lamb_breed, c.new_animal_no1, c.sex1, c.weight1, c.stillborn1, c.new_animal_no1, c.sex2, c.weight2, c.stillborn2,\n",
    "    c.new_animal_no3, c.sex3, c.weight3, c.stillborn3, c.new_animal_no4, c.sex4, c.weight4, c.stillborn4\n",
    "FROM LAMBINGS AS c\n",
    "INNER JOIN ANIMALS AS a ON c.animal_no = a.animal_no\n",
    "INNER JOIN PROBE_CARD AS p ON c.animal_no = p.animal_no\n",
    "WHERE c.abort=0 AND c.genetic_anomaly1=0 AND c.genetic_anomaly2=0 AND c.genetic_anomaly3=0 \n",
    "AND c.genetic_anomaly4=0 AND c.IVF=0 AND a.breed IN ('DORPER', 'ROMANOV')\n",
    "\n",
    "\"\"\""
   ]
  },
  {
   "cell_type": "markdown",
   "id": "8fb63078",
   "metadata": {},
   "source": [
    "The dataframe obtained have the following structure:\n",
    "\n",
    "| Column name             | Description                             |\n",
    "|-------------------------|-----------------------------------------|\n",
    "| animal_no               | Mother number                           |\n",
    "| birth_date              | Mother's birth date                     |\n",
    "| probe_code              | Code of the probe taken from the mother |\n",
    "| mother_breed            | Mother breed                            |\n",
    "| farm_code               | Code of the farm where lambing occurred |\n",
    "| operation_date          | Lambing date                            |\n",
    "| lambing_year            | Lambing year                            |\n",
    "| lambing_season          | Lambing season                          |\n",
    "| lamb_breed              | Lamb breed                              |\n",
    "| new_animal_no<number>   | Lamb number                             |\n",
    "| sex<number>             | Lamb sex                                |\n",
    "| weight<number>          | Lamb weight                             |\n",
    "| stillborn<number>       | Lamb stillbirth mark                    |\n",
    "    \n",
    "The information about lambs is organized in the following way: maximal number of lambs born and registered is 4. For each lamb there are 4 columns describing its number, sex, weight and stillbirth. If some columns are left unfilled, it means that these lambs were not born. "
   ]
  },
  {
   "cell_type": "markdown",
   "id": "bbb908e0",
   "metadata": {},
   "source": [
    "Basic function to obtain a DF from the SQL query:"
   ]
  },
  {
   "cell_type": "code",
   "execution_count": null,
   "id": "2afc8f32",
   "metadata": {},
   "outputs": [],
   "source": [
    "def sql_reader(sql):\n",
    "    with engine.connect() as con:\n",
    "        return pd.read_sql(sql, con)\n",
    "    return None"
   ]
  },
  {
   "cell_type": "markdown",
   "id": "d43021c0",
   "metadata": {},
   "source": [
    "# 3. Selection of valid lambing records"
   ]
  },
  {
   "cell_type": "markdown",
   "id": "d4c8074c",
   "metadata": {},
   "source": [
    "For further work we need to select valid records for each lambing.\n",
    "\n",
    "The data is considered valid and taken without any additional checks if there are 130 or more days between subsequent lambings.\n",
    "\n",
    "If the subsequent lambings occurred within 129 days, in this case the whole group of such records needs validation. In such cases we consider that there was a fact of lambing, but some errors, of technical or human origin, occurred while registration. The record having the biggest number of columns filled is taken from the whole group. If there are 2 or more records equally filled, any of them is taken.\n",
    "\n",
    "Here are the helper functions to select valid records:"
   ]
  },
  {
   "cell_type": "code",
   "execution_count": null,
   "id": "0eac06d6",
   "metadata": {},
   "outputs": [],
   "source": [
    "def _compare_dates(ts_list, mode):\n",
    "    \"\"\"\n",
    "    Helper function to obtain a list of nirmal (valid) or abnormal lambing dates depending of the mode parameter.\n",
    "    :param ts_list: a sorted list of lambing dates (operation_date) per one ovine mother.\n",
    "    :param mode: one of two values, 'normal' - to return a list of normal dates, 'abnormal' - to return a list of abnormal dates.\n",
    "    :return: a list of nomal or abnormal lambing dates.\n",
    "    \"\"\"\n",
    "    ts_list = [str(i)[:10] for i in ts_list]\n",
    "    ts_list = [datetime.strptime(i, '%Y-%m-%d').date() for i in ts_list]\n",
    "    \n",
    "    normal_dates = []\n",
    "    abnormal_dates = []\n",
    "    \n",
    "    if len(ts_list) == 1:\n",
    "        normal_dates.append(ts_list[0])\n",
    "    \n",
    "    else:\n",
    "        for i in range(len(ts_list)):\n",
    "            if i == 0:\n",
    "                if abs(ts_list[i] - ts_list[i+1]).days >= 130:\n",
    "                    normal_dates.append(ts_list[i])\n",
    "                else:\n",
    "                    abnormal_dates.append(ts_list[i])\n",
    "            elif i == len(ts_list) - 1:\n",
    "                if abs(ts_list[i] - ts_list[i-1]).days >= 130:\n",
    "                    normal_dates.append(ts_list[i])\n",
    "                else:\n",
    "                    abnormal_dates.append(ts_list[i])\n",
    "            else:\n",
    "                if abs(ts_list[i] - ts_list[i+1]).days >= 130 and abs(ts_list[i] - ts_list[i-1]).days >= 130:\n",
    "                    normal_dates.append(ts_list[i])\n",
    "                else:\n",
    "                    abnormal_dates.append(ts_list[i])\n",
    "\n",
    "    if mode == 'normal':\n",
    "        return normal_dates\n",
    "    elif mode == 'abnormal':\n",
    "        return abnormal_dates\n",
    "    \n",
    "    return \"A proper mode was not chosen\""
   ]
  },
  {
   "cell_type": "code",
   "execution_count": null,
   "id": "67f4248f",
   "metadata": {},
   "outputs": [],
   "source": [
    "def _group_abnormal_dates(abnormal_dates):\n",
    "    \"\"\"\n",
    "    Helper function to obtain groups of abnormal dates. \n",
    "    :param abnormal_dates: a sorted list of abnormal dates.\n",
    "    :return: a list of abnormal date groups.\n",
    "    \"\"\"\n",
    "    abnormal_dates = [str(i)[:10] for i in abnormal_dates]\n",
    "    abnormal_dates = [datetime.strptime(i, '%Y-%m-%d').date() for i in abnormal_dates]\n",
    "    \n",
    "    groups = []\n",
    "    group = 1\n",
    "    \n",
    "    for i in range(len(abnormal_dates)):\n",
    "        if i != len(abnormal_dates) - 1 and abs(abnormal_dates[i] - abnormal_dates[i+1]).days >= 130:\n",
    "            groups.append(group)\n",
    "            group += 1\n",
    "        else:\n",
    "            groups.append(group)\n",
    "    return groups"
   ]
  },
  {
   "cell_type": "code",
   "execution_count": null,
   "id": "3c0e5784",
   "metadata": {},
   "outputs": [],
   "source": [
    "def _get_lambing_data(labms_df, mode='all'):\n",
    "    \"\"\"\n",
    "    Helper function to select lambing records including initially valid records and any of the most filled record for a groupd having abnormal dates.\n",
    "    :param lambs_df: a lambing dataframe taken from the SQL query.\n",
    "    :param mode: one of two values: - \"first\" - if the model is applied to the first lambings only.\n",
    "                                    - \"all\" - if the model is applied to all lambings.\n",
    "    :return: a dataframe for firs or all lambings depending on the mode parameter.\n",
    "    \"\"\"\n",
    "    # Count notnull values for the lamb breed, weight and stilbirths (data_count).\n",
    "    labms_df['data_count'] = labms_df[['calve_breed', 'weight1', 'stillborn1', 'weight2', 'stillborn2', \n",
    "                                    'weight3', 'stillborn3', 'weight4', 'stillborn4']].notnull().sum(axis=1)\n",
    "    # Choose the fullest record for each date, no matter valid or not.\n",
    "    labms_df = labms_df.sort_values(['animal_no', 'operation_date', 'data_count'], \n",
    "                ascending=False).groupby(['animal_no', 'operation_date'], as_index=False).first()\n",
    "    # Obtaining a DF with the list of normal and abnormal dates. The latter are grouped.\n",
    "    # If the abnormal dates belong to diferent lambings, so the groups will be different, and one record for each group is taken afterwards.\n",
    "    animal_dates = labms_df[['animal_no', 'operation_date']].groupby(['animal_no'], as_index=False).agg(lambda x: list(x))\n",
    "    animal_dates['normal_dates'] = animal_dates['operation_date'].apply(_compare_dates, mode='normal')\n",
    "    animal_dates['abnormal_dates'] = animal_dates['operation_date'].apply(_compare_dates, mode='abnormal')\n",
    "    animal_dates['abnormal_groups'] = animal_dates['abnormal_dates'].apply(_group_abnormal_dates)\n",
    "    # Obtaining a DF with normal dates only\n",
    "    normal_dates = animal_dates.loc[animal_dates['normal_dates'].apply(lambda x: len(x)) > 0]\n",
    "    normal_dates = normal_dates[['animal_no', 'normal_dates']].explode(['normal_dates'])\n",
    "    normal_dates['normal_dates'] = pd.to_datetime(normal_dates['normal_dates'])\n",
    "    normal_lambings = normal_dates.merge(calve_entry, how='left', left_on=['animal_no', 'normal_dates'], \n",
    "                    right_on=['animal_no', 'operation_date']).drop(['normal_dates'], axis=1)\n",
    "    # Obtaining a DF with abnormal dates only with the fullest record selected per each group.\n",
    "    abnormal_dates = animal_dates.loc[animal_dates['abnormal_dates'].apply(lambda x: len(x)) > 0]\n",
    "    abnormal_dates = abnormal_dates[['animal_no', 'abnormal_dates', 'abnormal_groups']].explode(['abnormal_dates', 'abnormal_groups'])\n",
    "    abnormal_dates['abnormal_dates'] = pd.to_datetime(abnormal_dates['abnormal_dates'])\n",
    "    abnormal_lambings = abnormal_dates.merge(calve_entry, how='left', left_on=['animal_no', 'abnormal_dates'], \n",
    "                        right_on=['animal_no', 'operation_date']).drop(['abnormal_dates'], axis=1)\n",
    "    abnormal_lambings = abnormal_lambings.sort_values(['animal_no', 'abnormal_groups', 'data_count'], \n",
    "                        ascending=False).groupby(['animal_no', 'abnormal_groups'], as_index=False).first().drop(['abnormal_groups'], axis=1)\n",
    "\n",
    "    # Concatenating the normal and abnormal dates DFs and sorting by mother number and lambing date.\n",
    "    all_lambings = pd.concat([normal_lambings, abnormal_lambings], \n",
    "                ignore_index=True).sort_values(['Animal No_', 'Operation Date'], ascending=True).drop(['data_count'], axis=1)\n",
    "    # If the mode='fist', the data for first lambings are chosen only.\n",
    "    if mode == 'first':\n",
    "        return all_lambings.groupby(['Animal No_'], as_index=False).first()\n",
    "    \n",
    "    return all_lambings"
   ]
  },
  {
   "cell_type": "markdown",
   "id": "76aefd4c",
   "metadata": {},
   "source": [
    "# 4. Multiparity and lambing ease"
   ]
  },
  {
   "cell_type": "markdown",
   "id": "36fcaa40",
   "metadata": {},
   "source": [
    "Multiparity, lambing ease are calculated for each record from the DF received at p. 3."
   ]
  },
  {
   "cell_type": "code",
   "execution_count": null,
   "id": "4cfa30a1",
   "metadata": {},
   "outputs": [],
   "source": [
    "def _calc_offsprings(all_lambings, col_num):\n",
    "    \"\"\"\n",
    "    Helper function to calculate the number of born lambs, alive lambs and male lambs per lambing.\n",
    "    :params all_lambings: DF with lambing data, obtained after _get_lambing_data execution.\n",
    "    :param col_num: maximal number of lambs to be registered per lambing, in our case it's 4.\n",
    "    :return: all_lambings with columns containg numbers of born lambs, alive lambs and male lambs\n",
    "    \"\"\"\n",
    "    all_lambings['offspr_total'] = 0\n",
    "    all_lambings['offspr_alive'] = 0\n",
    "    all_lambings['offspr_male'] = 0\n",
    "    \n",
    "    for i in range(1, col_num+1):\n",
    "        sex_str = f\"sex{i}\"\n",
    "        weight_str = f\"weight{i}\"\n",
    "        stb_str = f\"stillborn{i}\"\n",
    "        all_lambings.loc[all_lambings[weight_str] != 0, 'offspr_total'] += 1\n",
    "        all_lambings.loc[(all_lambings[weight_str] != 0) & (all_lambings[stb_str] == 0), 'offspr_alive'] += 1\n",
    "        all_lambings.loc[(all_lambings[weight_str] != 0) & (all_lambings[sex_str] == 0), 'offspr_male'] += 1\n",
    "    \n",
    "    return all_lambings"
   ]
  },
  {
   "cell_type": "markdown",
   "id": "5cffb767",
   "metadata": {},
   "source": [
    "**The main function to obtain all required values for lambing ease and multiparity**"
   ]
  },
  {
   "cell_type": "code",
   "execution_count": null,
   "id": "ebe811e5",
   "metadata": {},
   "outputs": [],
   "source": [
    "def mult_ease(sql, col_num=4, lambing_data_mode='all'):\n",
    "    \"\"\"\n",
    "    Contains the logic to calculate data for miltiparity and ease phenotypes.\n",
    "    :param sql: SQL query to download lambing data from the database\n",
    "    :param col_num: maximal number of lambs to be registered per lambing, in our case it's 4.\n",
    "    :param lambing_data_mode: one of two values: - \"first\" - if the model is applied to the first lambings only.\n",
    "                                                 - \"all\" - if the model is applied to all lambings.\n",
    "    :return: a DF with phenotypes for miltiparity and ease selection models.\n",
    "    \"\"\"\n",
    "    lambs = sql_reader(sql)\n",
    "    lambs = _get_lambing_data(lambs, lambing_data_mode)\n",
    "    lambs = _calc_offsprings(lambs, col_num)\n",
    "    return lambs"
   ]
  },
  {
   "cell_type": "code",
   "execution_count": null,
   "id": "ba79aba5",
   "metadata": {},
   "outputs": [],
   "source": [
    "okot_df = mult_ease(calves, calves2, 4, 'all')"
   ]
  },
  {
   "cell_type": "markdown",
   "id": "e2a31e6b",
   "metadata": {},
   "source": [
    "# 5. Milkiness"
   ]
  },
  {
   "cell_type": "markdown",
   "id": "c80d8bca",
   "metadata": {},
   "source": [
    "Milkiness is weight of all lambs at the age of breaking in to milk minus weight of all lambs at the moment of birth.\n",
    "\n",
    "The lambs are taken from their mothers at the age of 90 days. \n",
    "\n",
    "In practice it can vary, or there can be several weighings around this age. Therefore we take from the database records with weighings made in the period from 80 to 100 days, and if there are several records withing this time interval, the closest to 90 days is taken."
   ]
  },
  {
   "cell_type": "code",
   "execution_count": null,
   "id": "1377bc90",
   "metadata": {},
   "outputs": [],
   "source": [
    "sql_weight = \"\"\"SELECT w.animal_no, w.weight, DATEDIFF(DAY, a.birth_date, w.opertaion_date) AS date_diff\n",
    "    FROM WEIGHT AS w\n",
    "    LEFT JOIN ANIMALS AS a ON w.animal_no = a.animal_no\n",
    "    WHERE DATEDIFF(DAY, a.birth_date, w.operation_date) BETWEEN 80 and 100\"\"\""
   ]
  },
  {
   "cell_type": "code",
   "execution_count": null,
   "id": "791d2e45",
   "metadata": {},
   "outputs": [],
   "source": [
    "def _get_weight_df(sql):\n",
    "    \"\"\"\n",
    "    Helper function to obtain data about weighings closest to 90 days.\n",
    "    :params sql: SQL query to obtain weight data.\n",
    "    :return: DF with weight and age of weighing (date_diff).\n",
    "    \"\"\"\n",
    "    weight_df = sql_reader(sql_weight)\n",
    "    weight_df['date_90'] = abs(weight_df['date_diff'] - 90)\n",
    "    weight_df = weight_df.sort_values(['Animal No_', 'date_90'], ascending=True).groupby(['Animal No_'], \n",
    "                    as_index=False).first().drop(['date_90'], axis=1)\n",
    "    return weight_df"
   ]
  },
  {
   "cell_type": "code",
   "execution_count": null,
   "id": "889c339d",
   "metadata": {},
   "outputs": [],
   "source": [
    "def _merge_weaning_weight(okot_df, weight_df, col_num):\n",
    "    \"\"\"\n",
    "    Helper function to merge weight at about 90 days with the lambing DF having weight at birth for each lamb.\n",
    "    :param okot_df: DF obtained after mult_ease execution.\n",
    "    :param weight_df: DF after _get_weight_df execution, which contains weight at about 90 days.\n",
    "    :param col_num: maximal number of lambs to be registered per lambing, in our case it's 4.\n",
    "    :return: okot_df with merged data of 90 days weight.\n",
    "    \"\"\"\n",
    "    weight_df = weight_df.rename(columns={'animal_no': 'animal_number', 'weight': 'weight_weaning'})\n",
    "    \n",
    "    for i in range(1, col_num+1):\n",
    "        diff_str = f\"date_diff{i}\"\n",
    "        weight_str = f\"weight_weaning{i}\"\n",
    "        left_merge_str = f\"new_animal_no{i}\"\n",
    "        okot_df = okot_df.merge(weight_df, how='left', left_on=left_merge_str, right_on='animal_number')\n",
    "        okot_df = okot_df.drop(['animal_number'], axis=1)\n",
    "        okot_df = okot_df.rename(columns={'weight_weaning': weight_str, 'date_diff': diff_str})\n",
    "        okot_df.loc[okot_df[weight_str].isnull(), weight_str] = 0\n",
    "        \n",
    "    return okot_df"
   ]
  },
  {
   "cell_type": "markdown",
   "id": "478ac842",
   "metadata": {},
   "source": [
    "**The main function to calculate milkiness**"
   ]
  },
  {
   "cell_type": "code",
   "execution_count": null,
   "id": "8c680962",
   "metadata": {},
   "outputs": [],
   "source": [
    "def calc_milkiness(okot_df, sql, col_num):\n",
    "    \"\"\"\n",
    "    Calculates milkiness.\n",
    "    :param okot_df: DF obtained after mult_ease execution.\n",
    "    :params sql: SQL query to obtain weight data.\n",
    "    :param col_num: maximal number of lambs to be registered per lambing, in our case it's 4.\n",
    "    :return: okot_df with calculated milkiness.\n",
    "    \"\"\"\n",
    "        \n",
    "    weight_df = _get_weight_df(sql)\n",
    "    okot_df = _merge_weaning_weight(okot_df, weight_df, col_num)\n",
    "       \n",
    "    okot_df['nest_weight_birth'] = okot_df['weight1'] + okot_df['weight2'] + okot_df['weight3'] + okot_df['weight4']\n",
    "    okot_df['nest_weight_weaning'] = okot_df['weight_weaning1'] + okot_df['weight_weaning2'] + okot_df['weight_weaning3'] + okot_df['weight_weaning4']\n",
    "    \n",
    "    okot_df['milkiness'] = okot_df['nest_weight_weaning'] - okot_df['nest_weight_birth']\n",
    "    \n",
    "    return okot_df"
   ]
  },
  {
   "cell_type": "code",
   "execution_count": null,
   "id": "fce20556",
   "metadata": {},
   "outputs": [],
   "source": [
    "milky = calc_milkiness(okot_df, sql_weight, 4)"
   ]
  }
 ],
 "metadata": {
  "kernelspec": {
   "display_name": "Python 3 (ipykernel)",
   "language": "python",
   "name": "python3"
  },
  "language_info": {
   "codemirror_mode": {
    "name": "ipython",
    "version": 3
   },
   "file_extension": ".py",
   "mimetype": "text/x-python",
   "name": "python",
   "nbconvert_exporter": "python",
   "pygments_lexer": "ipython3",
   "version": "3.9.13"
  }
 },
 "nbformat": 4,
 "nbformat_minor": 5
}
